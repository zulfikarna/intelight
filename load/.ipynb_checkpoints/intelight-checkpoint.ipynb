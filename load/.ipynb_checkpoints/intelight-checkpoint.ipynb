{
 "cells": [
  {
   "cell_type": "code",
   "execution_count": 1,
   "id": "1b480132",
   "metadata": {},
   "outputs": [
    {
     "data": {
      "application/javascript": [
       "\n",
       "try {\n",
       "require(['notebook/js/codecell'], function(codecell) {\n",
       "  codecell.CodeCell.options_default.highlight_modes[\n",
       "      'magic_text/x-csrc'] = {'reg':[/^%%microblaze/]};\n",
       "  Jupyter.notebook.events.one('kernel_ready.Kernel', function(){\n",
       "      Jupyter.notebook.get_cells().map(function(cell){\n",
       "          if (cell.cell_type == 'code'){ cell.auto_highlight(); } }) ;\n",
       "  });\n",
       "});\n",
       "} catch (e) {};\n"
      ]
     },
     "metadata": {},
     "output_type": "display_data"
    },
    {
     "data": {
      "application/javascript": [
       "\n",
       "try {\n",
       "require(['notebook/js/codecell'], function(codecell) {\n",
       "  codecell.CodeCell.options_default.highlight_modes[\n",
       "      'magic_text/x-csrc'] = {'reg':[/^%%pybind11/]};\n",
       "  Jupyter.notebook.events.one('kernel_ready.Kernel', function(){\n",
       "      Jupyter.notebook.get_cells().map(function(cell){\n",
       "          if (cell.cell_type == 'code'){ cell.auto_highlight(); } }) ;\n",
       "  });\n",
       "});\n",
       "} catch (e) {};\n"
      ]
     },
     "metadata": {},
     "output_type": "display_data"
    }
   ],
   "source": [
    "from pynq import Overlay, MMIO, Interrupt\n",
    "import asyncio\n",
    "import numpy as np\n",
    "import matplotlib.pyplot as plt\n",
    "import time\n",
    "import math\n",
    "import random\n",
    "import csv\n",
    "from rig.type_casts import float_to_fp, fp_to_float, NumpyFloatToFixConverter, NumpyFixToFloatConverter"
   ]
  },
  {
   "cell_type": "code",
   "execution_count": 2,
   "id": "ee04485d",
   "metadata": {},
   "outputs": [],
   "source": [
    "ol = Overlay(\"system_wrapper.bit\")\n",
    "ol?"
   ]
  },
  {
   "cell_type": "code",
   "execution_count": 3,
   "id": "723e3bbc",
   "metadata": {},
   "outputs": [],
   "source": [
    "# IP Definition\n",
    "action_ram_0 = ol.RAM_BlockRAM_0axi_bram_ctrl_0 \n",
    "action_ram_1 = ol.RAM_BlockRAM_1axi_bram_ctrl_0\n",
    "action_ram_2 = ol.RAM_BlockRAM_2axi_bram_ctrl_0\n",
    "action_ram_3 = ol.RAM_BlockRAM_3axi_bram_ctrl_0\n",
    "register_mem = ol.intelight_mem_0\n",
    "#interrupt_ctrl = ol.PS_axi_intc_0          "
   ]
  },
  {
   "cell_type": "code",
   "execution_count": 4,
   "id": "a499287e",
   "metadata": {},
   "outputs": [],
   "source": [
    "signed_15_16 = float_to_fp(signed=True, n_bits=32, n_frac=16)\n",
    "unsigned_8_8 = float_to_fp(signed=False, n_bits=16, n_frac=8)\n",
    "unsigned_0_3 = float_to_fp(signed=False, n_bits=3, n_frac=3)\n",
    "toFloat_3f = fp_to_float(n_frac=3)\n",
    "toFloat_32f = fp_to_float(n_frac=16)\n",
    "\n",
    "def twos_comp(val_in, bits):\n",
    "    val = int(val_in, 16)\n",
    "    if (val & (1 << (bits - 1))) != 0: # if sign bit is set e.g., 8bit: 128-255\n",
    "        val = val - (1 << bits)        # compute negative value\n",
    "    return val                         # return positive value as is"
   ]
  },
  {
   "cell_type": "markdown",
   "id": "ba1ef4a4",
   "metadata": {},
   "source": [
    "# Control Register Inputs"
   ]
  },
  {
   "cell_type": "code",
   "execution_count": 5,
   "id": "8027f59f",
   "metadata": {},
   "outputs": [
    {
     "name": "stdout",
     "output_type": "stream",
     "text": [
      "Alpha = 0.500 (0b0100)\n",
      "Gamma = 0.500 (0b0100)\n",
      "Delta t = 0.125 (0b0001)\n"
     ]
    }
   ],
   "source": [
    "# Setting alpha\n",
    "alpha = 0.5\n",
    "f_alpha = unsigned_0_3(alpha)\n",
    "alpha = toFloat_3f(f_alpha)\n",
    "print(\"Alpha = {:.3f} (0b{:04b})\".format(alpha, f_alpha))\n",
    "\n",
    "#Setting Gamma\n",
    "gamma = 0.5\n",
    "f_gamma = unsigned_0_3(gamma)\n",
    "gamma = toFloat_3f(f_gamma)\n",
    "print(\"Gamma = {:.3f} (0b{:04b})\".format(gamma, f_gamma))\n",
    "\n",
    "#Setting delta_t\n",
    "delta_t = 0.2\n",
    "f_delta_t = unsigned_0_3(delta_t)\n",
    "delta_t = toFloat_3f(f_delta_t)\n",
    "print(\"Delta t = {:.3f} (0b{:04b})\".format(delta_t, f_delta_t))"
   ]
  },
  {
   "cell_type": "code",
   "execution_count": 6,
   "id": "5b29da5b",
   "metadata": {},
   "outputs": [
    {
     "name": "stdout",
     "output_type": "stream",
     "text": [
      "Seed = 10.000000 0b0000101000000000 0x0a00\n"
     ]
    }
   ],
   "source": [
    "#Setting LSFR Seed\n",
    "# random.seed(13217053)\n",
    "# seed_float = random.random()\n",
    "seed_float = 10\n",
    "seed_fixedp = unsigned_8_8(seed_float)\n",
    "print(\"Seed = {:f} 0b{:016b} 0x{:04x}\".format(seed_float, seed_fixedp, seed_fixedp))"
   ]
  },
  {
   "cell_type": "code",
   "execution_count": 7,
   "id": "fb8b9ed7",
   "metadata": {},
   "outputs": [
    {
     "name": "stdout",
     "output_type": "stream",
     "text": [
      "Max Step = 100 0b0000000001100100 0x0064\n",
      "Max Episode = 5800 0b0001011010101000 0x16a8\n"
     ]
    }
   ],
   "source": [
    "# Setting MaxStep, MaxGeneration\n",
    "max_step = 100\n",
    "max_episode = 5800\n",
    "print(\"Max Step = {:d} 0b{:016b} 0x{:04x}\".format(max_step, max_step, max_step))\n",
    "print(\"Max Episode = {:d} 0b{:016b} 0x{:04x}\".format(max_episode, max_episode, max_episode))"
   ]
  },
  {
   "cell_type": "code",
   "execution_count": 8,
   "id": "26cceeee",
   "metadata": {},
   "outputs": [
    {
     "name": "stdout",
     "output_type": "stream",
     "text": [
      "Reward 0 = 0x00000000\n",
      "Reward 1 = 0x00140000\n",
      "Reward 2 = 0x00460000\n"
     ]
    }
   ],
   "source": [
    "#Setting Reward Value\n",
    "reward_0 = 0x00000000\n",
    "reward_1 = 0x00140000\n",
    "reward_2 = 0x00460000\n",
    "\n",
    "print(\"Reward 0 = 0x{:08X}\".format(reward_0))\n",
    "print(\"Reward 1 = 0x{:08X}\".format(reward_1))\n",
    "print(\"Reward 2 = 0x{:08X}\".format(reward_2))"
   ]
  },
  {
   "cell_type": "code",
   "execution_count": 9,
   "id": "4a582f3f",
   "metadata": {},
   "outputs": [
    {
     "name": "stdout",
     "output_type": "stream",
     "text": [
      "Debit out = 0x001F0000\n",
      "Debit 0 = 0x00050000\n",
      "Debit 1 = 0x000A0000\n",
      "Debit 2 = 0x000F0000\n",
      "Debit 3 = 0x00140000\n"
     ]
    }
   ],
   "source": [
    "# Setting debit\n",
    "debit_out = 0x001F_0000\n",
    "debit_0 = 0x0005_0000\n",
    "debit_1 = 0x000A_0000\n",
    "debit_2 = 0x000F_0000\n",
    "debit_3 = 0x0014_0000\n",
    "print(\"Debit out = 0x{:08X}\".format(debit_out))\n",
    "print(\"Debit 0 = 0x{:08X}\".format(debit_0))\n",
    "print(\"Debit 1 = 0x{:08X}\".format(debit_1))\n",
    "print(\"Debit 2 = 0x{:08X}\".format(debit_2))\n",
    "print(\"Debit 3 = 0x{:08X}\".format(debit_3))"
   ]
  },
  {
   "cell_type": "code",
   "execution_count": 10,
   "id": "4cb4cbc7",
   "metadata": {},
   "outputs": [
    {
     "name": "stdout",
     "output_type": "stream",
     "text": [
      "Init taffic 0 = 0x00150000\n",
      "Init taffic 1 = 0x00150000\n",
      "Init taffic 2 = 0x00150000\n",
      "Init taffic 3 = 0x00150000\n"
     ]
    }
   ],
   "source": [
    "# Setting initial congestion length\n",
    "init_traffic_0 = 0x0015_0000\n",
    "init_traffic_1 = 0x0015_0000\n",
    "init_traffic_2 = 0x0015_0000\n",
    "init_traffic_3 = 0x0015_0000\n",
    "print(\"Init taffic 0 = 0x{:08X}\".format(init_traffic_0))\n",
    "print(\"Init taffic 1 = 0x{:08X}\".format(init_traffic_1))\n",
    "print(\"Init taffic 2 = 0x{:08X}\".format(init_traffic_2))\n",
    "print(\"Init taffic 3 = 0x{:08X}\".format(init_traffic_3))"
   ]
  },
  {
   "cell_type": "code",
   "execution_count": 11,
   "id": "05eb227b",
   "metadata": {},
   "outputs": [
    {
     "name": "stdout",
     "output_type": "stream",
     "text": [
      "Level 0 border = 0x000A0000\n",
      "Level 1 border = 0x00140000\n",
      "Level 2 border = 0x001E0000\n"
     ]
    }
   ],
   "source": [
    "# Setting level border\n",
    "limit_level_0 = 0x000A_0000\n",
    "limit_level_1 = 0x0014_0000\n",
    "limit_level_2 = 0x001E_0000\n",
    "print(\"Level 0 border = 0x{:08X}\".format(limit_level_0))\n",
    "print(\"Level 1 border = 0x{:08X}\".format(limit_level_1))\n",
    "print(\"Level 2 border = 0x{:08X}\".format(limit_level_2))"
   ]
  },
  {
   "cell_type": "code",
   "execution_count": 12,
   "id": "4803f770",
   "metadata": {
    "scrolled": true
   },
   "outputs": [
    {
     "name": "stdout",
     "output_type": "stream",
     "text": [
      "0b00000010010000100000101000000000(0x02420A00)\n",
      "0b00000000011001000001011010101000(0x006416A8)\n",
      "0b00000000000111110000000000000000(0x001F0000)\n",
      "0b00000000000001010000000000000000(0x00050000)\n",
      "0b00000000000010100000000000000000(0x000A0000)\n",
      "0b00000000000011110000000000000000(0x000F0000)\n",
      "0b00000000000101000000000000000000(0x00140000)\n",
      "0b00000000000101010000000000000000(0x00150000)\n",
      "0b00000000000101010000000000000000(0x00150000)\n",
      "0b00000000000101010000000000000000(0x00150000)\n",
      "0b00000000000101010000000000000000(0x00150000)\n",
      "0b00000000000010100000000000000000(0x000A0000)\n",
      "0b00000000000101000000000000000000(0x00140000)\n",
      "0b00000000000111100000000000000000(0x001E0000)\n",
      "0b00000000000000000000000000000000(0x00000000)\n",
      "0b00000000000101000000000000000000(0x00140000)\n",
      "0b00000000010001100000000000000000(0x00460000)\n"
     ]
    }
   ],
   "source": [
    "# Input setting to register memory\n",
    "reg = [0,0,0,0,0,0,0,0,0,0,0,0,0,0,0,0,0]\n",
    "reg[0] |= f_alpha<<23\n",
    "reg[0] |= f_gamma<<20\n",
    "reg[0] |= f_delta_t<<17\n",
    "# reg[0] |= start<<16\n",
    "reg[0] |= seed_fixedp\n",
    "reg[1] |= max_step<<16\n",
    "reg[1] |= max_episode\n",
    "reg[2] |= debit_out\n",
    "reg[3] |= debit_0\n",
    "reg[4] |= debit_1\n",
    "reg[5] |= debit_2\n",
    "reg[6] |= debit_3\n",
    "reg[7] |= init_traffic_0\n",
    "reg[8] |= init_traffic_1\n",
    "reg[9] |= init_traffic_2\n",
    "reg[10]|= init_traffic_3\n",
    "reg[11]|= limit_level_0\n",
    "reg[12]|= limit_level_1\n",
    "reg[13]|= limit_level_2\n",
    "reg[14]|= reward_0\n",
    "reg[15]|= reward_1\n",
    "reg[16]|= reward_2\n",
    "\n",
    "for i in range(17):\n",
    "    register_mem.write(i*4,reg[i])\n",
    "    print(\"0b{:032b}(0x{:08X})\".format(reg[i], reg[i]))"
   ]
  },
  {
   "cell_type": "code",
   "execution_count": 13,
   "id": "891af3cb",
   "metadata": {},
   "outputs": [
    {
     "name": "stdout",
     "output_type": "stream",
     "text": [
      "                         2420A00\n",
      "                          6416A8\n",
      "                          1F0000\n",
      "                           50000\n",
      "                           A0000\n",
      "                           F0000\n",
      "                          140000\n",
      "                          150000\n",
      "                          150000\n",
      "                          150000\n",
      "                          150000\n",
      "                           A0000\n",
      "                          140000\n",
      "                          1E0000\n",
      "                               0\n",
      "                          140000\n",
      "                          460000\n"
     ]
    }
   ],
   "source": [
    "for i in range (17):\n",
    "    temp = register_mem.read(i*4)\n",
    "    print(\"{:32X}\".format(temp))"
   ]
  },
  {
   "cell_type": "markdown",
   "id": "91d7380d",
   "metadata": {},
   "source": [
    "# Hardware Learning"
   ]
  },
  {
   "cell_type": "code",
   "execution_count": 15,
   "id": "e5a2d684",
   "metadata": {},
   "outputs": [],
   "source": [
    "async def wait_for_interrupt(interrupt):\n",
    "    register_mem.write(0,reg[0]|0x00010000)\n",
    "    register_mem.write(0,reg[0]|0x00000000)\n",
    "    start = time.time()\n",
    "    print(\"Waiting for interrupt...\")\n",
    "    while True:\n",
    "        await interrupt.wait()\n",
    "        end = time.time()\n",
    "        total_time = end-start\n",
    "        print(\"Done\")\n",
    "        print(\"Execution time = {0}\".format(total_time))\n",
    "        break"
   ]
  },
  {
   "cell_type": "code",
   "execution_count": 16,
   "id": "a982fca0",
   "metadata": {},
   "outputs": [
    {
     "data": {
      "application/json": {
       "CU_0/finish": {
        "controller": "PS/axi_intc_0",
        "fullpath": "CU_0/finish",
        "index": 0
       },
       "PS/axi_intc_0/intr": {
        "controller": "PS/axi_intc_0",
        "fullpath": "PS/axi_intc_0/intr",
        "index": 0
       },
       "finish": {
        "controller": "PS/axi_intc_0",
        "fullpath": "finish",
        "index": 0
       }
      },
      "text/plain": [
       "{'PS/axi_intc_0/intr': {'controller': 'PS/axi_intc_0',\n",
       "  'index': 0,\n",
       "  'fullpath': 'PS/axi_intc_0/intr'},\n",
       " 'finish': {'controller': 'PS/axi_intc_0', 'index': 0, 'fullpath': 'finish'},\n",
       " 'CU_0/finish': {'controller': 'PS/axi_intc_0',\n",
       "  'index': 0,\n",
       "  'fullpath': 'CU_0/finish'}}"
      ]
     },
     "execution_count": 16,
     "metadata": {
      "application/json": {
       "expanded": false,
       "root": "interrupt_pins"
      }
     },
     "output_type": "execute_result"
    }
   ],
   "source": [
    "ol.interrupt_pins"
   ]
  },
  {
   "cell_type": "code",
   "execution_count": 17,
   "id": "819e19b8",
   "metadata": {},
   "outputs": [
    {
     "name": "stdout",
     "output_type": "stream",
     "text": [
      "Waiting for interrupt...\n",
      "Done\n",
      "Execution time = 0.004399776458740234\n"
     ]
    }
   ],
   "source": [
    "loop = asyncio.get_event_loop()\n",
    "intr_inst  = Interrupt(\"PS/axi_intc_0/intr\")\n",
    "task = loop.create_task(wait_for_interrupt(intr_inst))\n",
    "loop.run_until_complete(task)"
   ]
  },
  {
   "cell_type": "code",
   "execution_count": 18,
   "id": "fad024b1",
   "metadata": {},
   "outputs": [],
   "source": [
    "num_of_road = 4\n",
    "num_of_segment = 4\n",
    "NUM_OF_STATE = 4*4*4*4\n",
    "NUM_OF_ACTION = 4\n",
    "bufferTable = np.zeros((NUM_OF_STATE, NUM_OF_ACTION))\n",
    "\n",
    "for i in range(0, NUM_OF_STATE, 1):\n",
    "    row_mem = np.zeros(0)\n",
    "    row_mem = np.append(row_mem, twos_comp(hex(action_ram_0.read(i*4)), 32))\n",
    "    row_mem = np.append(row_mem, twos_comp(hex(action_ram_1.read(i*4)), 32))\n",
    "    row_mem = np.append(row_mem, twos_comp(hex(action_ram_2.read(i*4)), 32))\n",
    "    row_mem = np.append(row_mem, twos_comp(hex(action_ram_3.read(i*4)), 32))\n",
    "    bufferTable[i] = row_mem\n",
    "\n",
    "frac_bit = 16\n",
    "fp_to_float = NumpyFixToFloatConverter(frac_bit)\n",
    "qTable = fp_to_float(bufferTable)"
   ]
  },
  {
   "cell_type": "code",
   "execution_count": 19,
   "id": "80fb3e57",
   "metadata": {},
   "outputs": [
    {
     "name": "stdout",
     "output_type": "stream",
     "text": [
      "========== Hardware Q-Table ==========\n",
      "[[  0.           0.           0.           0.        ]\n",
      " [  0.           0.           0.           0.        ]\n",
      " [  0.           0.           0.           0.        ]\n",
      " ...\n",
      " [ 68.41362    135.30838013 136.7467804  138.27999878]\n",
      " [ 69.99882507 139.99990845 139.99990845 139.85151672]\n",
      " [  0.           0.           0.           0.        ]]\n"
     ]
    }
   ],
   "source": [
    "#Print Hardware Q-Table from learning\n",
    "print(\"========== Hardware Q-Table ==========\")\n",
    "print(qTable)"
   ]
  },
  {
   "cell_type": "code",
   "execution_count": 20,
   "id": "24009e76",
   "metadata": {},
   "outputs": [],
   "source": [
    "# Write to CSV\n",
    "header = ['North', 'East', 'West', 'South']\n",
    "with open('Q_Matrix_Traffic.csv', 'w', encoding='UTF8', newline='') as f:\n",
    "    writer = csv.writer(f)\n",
    "    writer.writerow(header)\n",
    "    writer.writerows(qTable)"
   ]
  },
  {
   "cell_type": "markdown",
   "id": "79808fa6",
   "metadata": {},
   "source": [
    "# Adaptation"
   ]
  },
  {
   "cell_type": "code",
   "execution_count": null,
   "id": "d2a8ff16",
   "metadata": {},
   "outputs": [],
   "source": []
  }
 ],
 "metadata": {
  "kernelspec": {
   "display_name": "Python 3 (ipykernel)",
   "language": "python",
   "name": "python3"
  },
  "language_info": {
   "codemirror_mode": {
    "name": "ipython",
    "version": 3
   },
   "file_extension": ".py",
   "mimetype": "text/x-python",
   "name": "python",
   "nbconvert_exporter": "python",
   "pygments_lexer": "ipython3",
   "version": "3.10.0"
  }
 },
 "nbformat": 4,
 "nbformat_minor": 5
}
